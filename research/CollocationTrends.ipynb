{
 "cells": [
  {
   "cell_type": "code",
   "execution_count": 1,
   "metadata": {},
   "outputs": [],
   "source": [
    "import numpy as np\n",
    "import pandas as pd\n",
    "from scipy import stats\n",
    "import glob\n",
    "\n",
    "path_to_data = glob.glob('/home/bdc2/aodhan/ROM_SAF/collocations/*_ERA_5_colocated_occultations.npy')\n",
    "collocation_arrays = [np.load(path_to_data[i], allow_pickle=True) for i in range(0, len(path_to_data))]\n",
    "collocation_concatenation = np.concatenate(collocation_arrays, axis=0)\n"
   ]
  },
  {
   "cell_type": "code",
   "execution_count": 3,
   "metadata": {},
   "outputs": [
    {
     "data": {
      "text/plain": [
       "array([5, 8, '2008', 61.0, 331.75, -60.18926783152813,\n",
       "       masked_array(data=[-39.52181850510942, -49.44632907725571,\n",
       "                   -64.83428170687, -68.51977634904634,\n",
       "                   -66.77422888665293, -68.84782587214116,\n",
       "                   -66.38947944598618, -63.08265925330818,\n",
       "                   -62.44276018356766, -61.440386640777945,\n",
       "                   -58.71879059732464, -57.64351716051385,\n",
       "                   -57.48961738424714, -56.83756833216981,\n",
       "                   -57.53011732536996, -56.99551810254877,\n",
       "                   -54.79434630252368, -50.179378011578706,\n",
       "                   -44.489136283822916],\n",
       "             mask=[False, False, False, False, False, False, False, False,\n",
       "                   False, False, False, False, False, False, False, False,\n",
       "                   False, False, False],\n",
       "       fill_value=1e+20)], dtype=object)"
      ]
     },
     "execution_count": 3,
     "metadata": {},
     "output_type": "execute_result"
    }
   ],
   "source": [
    "collocation_concatenation[1000000]"
   ]
  },
  {
   "cell_type": "code",
   "execution_count": 2,
   "metadata": {},
   "outputs": [
    {
     "name": "stdout",
     "output_type": "stream",
     "text": [
      "(11202775, 7)\n"
     ]
    }
   ],
   "source": []
  },
  {
   "cell_type": "code",
   "execution_count": 7,
   "metadata": {},
   "outputs": [],
   "source": [
    "np.shape(collocation_concatenation)\n",
    "\n",
    "collocation_concatenation_thing = collocation_concatenation[:,1]"
   ]
  },
  {
   "cell_type": "code",
   "execution_count": 8,
   "metadata": {},
   "outputs": [
    {
     "data": {
      "text/plain": [
       "array([0, 1, 2, 3, 4, 5, 6, 7, 8, 9, 10, 11, 12, 13, 14, 15, 16, 17, 18,\n",
       "       19, 20, 21, 22, 23], dtype=object)"
      ]
     },
     "execution_count": 8,
     "metadata": {},
     "output_type": "execute_result"
    }
   ],
   "source": [
    "np.unique(collocation_concatenation_thing)"
   ]
  },
  {
   "cell_type": "code",
   "execution_count": null,
   "metadata": {},
   "outputs": [],
   "source": []
  }
 ],
 "metadata": {
  "kernelspec": {
   "display_name": "Python 3 (ipykernel)",
   "language": "python",
   "name": "python3"
  },
  "language_info": {
   "codemirror_mode": {
    "name": "ipython",
    "version": 3
   },
   "file_extension": ".py",
   "mimetype": "text/x-python",
   "name": "python",
   "nbconvert_exporter": "python",
   "pygments_lexer": "ipython3",
   "version": "3.7.13"
  },
  "vscode": {
   "interpreter": {
    "hash": "af835c7fa3f1d66f76e7463e82810696e6cb13c598b94db10ac6143493e4a761"
   }
  }
 },
 "nbformat": 4,
 "nbformat_minor": 4
}
