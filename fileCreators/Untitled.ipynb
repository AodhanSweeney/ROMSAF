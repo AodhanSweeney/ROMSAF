{
 "cells": [
  {
   "cell_type": "code",
   "execution_count": 27,
   "id": "1d28f437-8f65-46d2-a57b-b65f975533d8",
   "metadata": {},
   "outputs": [
    {
     "name": "stdout",
     "output_type": "stream",
     "text": [
      "<class 'netCDF4._netCDF4.Dataset'>\n",
      "root group (NETCDF3_CLASSIC data model, file format NETCDF3):\n",
      "    title: ROM SAF Radio Occultation Data\n",
      "    institution: DMI (ROM SAF)\n",
      "    Conventions: CF-1.0\n",
      "    format_version: ROPP I/O V1.1\n",
      "    processing_centre: DMI (ROM SAF)\n",
      "    processing_software: GPAC 2.3.0\n",
      "    processing_date: 2017-11-09 15:35:09.091\n",
      "    source_filename: atmPhs_CHAM.2001.244.03.44.G05_2014.0140_nc\n",
      "    source_provider: UCAR/CDAAC\n",
      "    pod_method: UNKNOWN\n",
      "    phase_method: UNKNOWN\n",
      "    bangle_method: CT2 wave optics (StatOpt)\n",
      "    refrac_method: Abel transform (LIN)\n",
      "    meteo_method: UNKNOWN\n",
      "    thin_method: UNKNOWN\n",
      "    software_version: V8.1\n",
      "    configuration_file: champ_pp.cf\n",
      "    background_correlation_file: UNKNOWN\n",
      "    observation_correlation_file: UNKNOWN\n",
      "    attribute_file: champ_rep_attrb.cf\n",
      "    product_description: Reprocessed CHAMP climate data record\n",
      "    product_doi: 10.15770/EUM_SAF_GRM_0004\n",
      "    product_name: Bending angle, Refractivity profile, Dry temperature profile, Tropopause height\n",
      "    product_acronym: RBACHA, RRPCHA, RDPCHA, RCHCHA\n",
      "    product_id: GRM-32-L1-B-R1, GRM-32-L2-R-R1, GRM-32-L2-D-R1, GRM-32-L2-C-R1\n",
      "    product_version: 1.0, 1.0, 1.0, 1.0\n",
      "    _FillValue: -99999000.0\n",
      "    dimensions(sizes): dim_unlim(1), dim_char04(5), dim_char20(21), dim_char40(41), dim_char64(65), xyz(3), dim_lev1b(639), dim_lev2a(639), dim_009(1200), dim_010(935)\n",
      "    variables(dimensions): |S1 occ_id(dim_unlim,dim_char40), |S1 gns_id(dim_unlim,dim_char04), |S1 leo_id(dim_unlim,dim_char04), |S1 stn_id(dim_unlim,dim_char04), float64 start_time(dim_unlim), int32 year(dim_unlim), int32 month(dim_unlim), int32 day(dim_unlim), int32 hour(dim_unlim), int32 minute(dim_unlim), int32 second(dim_unlim), int32 msec(dim_unlim), int32 pcd(dim_unlim), float32 overall_qual(dim_unlim), float64 time(dim_unlim), float32 time_offset(dim_unlim), float32 lat(dim_unlim), float32 lon(dim_unlim), float32 undulation(dim_unlim), float64 roc(dim_unlim), float32 r_coc(dim_unlim,xyz), float32 azimuth(dim_unlim), float32 lat_tp(dim_unlim,dim_lev1b), float32 lon_tp(dim_unlim,dim_lev1b), float32 azimuth_tp(dim_unlim,dim_lev1b), float64 impact_L1(dim_unlim,dim_lev1b), float64 impact_L2(dim_unlim,dim_lev1b), float64 impact(dim_unlim,dim_lev1b), float64 impact_opt(dim_unlim,dim_lev1b), float64 bangle_L1(dim_unlim,dim_lev1b), float64 bangle_L2(dim_unlim,dim_lev1b), float64 bangle(dim_unlim,dim_lev1b), float64 bangle_opt(dim_unlim,dim_lev1b), float64 bangle_L1_sigma(dim_unlim,dim_lev1b), float64 bangle_L2_sigma(dim_unlim,dim_lev1b), float64 bangle_sigma(dim_unlim,dim_lev1b), float64 bangle_opt_sigma(dim_unlim,dim_lev1b), float32 bangle_L1_qual(dim_unlim,dim_lev1b), float32 bangle_L2_qual(dim_unlim,dim_lev1b), float32 bangle_qual(dim_unlim,dim_lev1b), float32 bangle_opt_qual(dim_unlim,dim_lev1b), float32 alt_refrac(dim_unlim,dim_lev2a), float32 geop_refrac(dim_unlim,dim_lev2a), float64 refrac(dim_unlim,dim_lev2a), float64 refrac_sigma(dim_unlim,dim_lev2a), float32 refrac_qual(dim_unlim,dim_lev2a), float64 dry_temp(dim_unlim,dim_lev2a), float64 dry_temp_sigma(dim_unlim,dim_lev2a), float32 dry_temp_qual(dim_unlim,dim_lev2a), float32 geop_sfc(dim_unlim), float32 press_sfc(dim_unlim), float32 press_sfc_sigma(dim_unlim), float32 press_sfc_qual(dim_unlim), float32 Ne_max(dim_unlim), float32 Ne_max_sigma(dim_unlim), float32 H_peak(dim_unlim), float32 H_peak_sigma(dim_unlim), float32 H_width(dim_unlim), float32 H_width_sigma(dim_unlim), float64 tph_bangle(dim_unlim), float64 tpa_bangle(dim_unlim), int32 tph_bangle_flag(dim_unlim), float32 tph_refrac(dim_unlim), float64 tpn_refrac(dim_unlim), int32 tph_refrac_flag(dim_unlim), float32 tph_tdry_lrt(dim_unlim), float32 tpt_tdry_lrt(dim_unlim), int32 tph_tdry_lrt_flag(dim_unlim), float32 tph_tdry_cpt(dim_unlim), float32 tpt_tdry_cpt(dim_unlim), int32 tph_tdry_cpt_flag(dim_unlim), float32 prh_tdry_cpt(dim_unlim), float32 prt_tdry_cpt(dim_unlim), int32 prh_tdry_cpt_flag(dim_unlim), float32 tph_temp_lrt(dim_unlim), float32 tpt_temp_lrt(dim_unlim), int32 tph_temp_lrt_flag(dim_unlim), float32 tph_temp_cpt(dim_unlim), float32 tpt_temp_cpt(dim_unlim), int32 tph_temp_cpt_flag(dim_unlim), float32 prh_temp_cpt(dim_unlim), float32 prt_temp_cpt(dim_unlim), int32 prh_temp_cpt_flag(dim_unlim), float32 pblh_bangle(dim_unlim), float32 pblh_bangle2(dim_unlim), float32 pbla_bangle(dim_unlim), float32 pbla_bangle2(dim_unlim), int32 pblh_bangle_flag(dim_unlim), float32 pblh_refrac(dim_unlim), float32 pblh_refrac2(dim_unlim), float32 pbln_refrac(dim_unlim), float32 pbln_refrac2(dim_unlim), int32 pblh_refrac_flag(dim_unlim), float32 pblh_tdry(dim_unlim), float32 pblh_tdry2(dim_unlim), float32 pblt_tdry(dim_unlim), float32 pblt_tdry2(dim_unlim), int32 pblh_tdry_flag(dim_unlim), float32 pblh_temp(dim_unlim), float32 pblh_temp2(dim_unlim), float32 pblt_temp(dim_unlim), float32 pblt_temp2(dim_unlim), int32 pblh_temp_flag(dim_unlim), float32 pblh_shum(dim_unlim), float32 pblh_shum2(dim_unlim), float32 pblq_shum(dim_unlim), float32 pblq_shum2(dim_unlim), int32 pblh_shum_flag(dim_unlim), float32 pblh_rhum(dim_unlim), float32 pblh_rhum2(dim_unlim), float32 pblr_rhum(dim_unlim), float32 pblr_rhum2(dim_unlim), int32 pblh_rhum_flag(dim_unlim), float32 L2_badness_score(dim_unlim), float32 SO_badness_score(dim_unlim), float32 Badness_score(dim_unlim), float32 SO_regress_fact1(dim_unlim), float32 SO_regress_fact2(dim_unlim), float32 CT_impact(dim_unlim,dim_009), float32 CT_amplitude(dim_unlim,dim_009), float32 CT_amplitude_smt(dim_unlim,dim_009), float32 CT_impactL2(dim_unlim,dim_010), float32 CT_amplitudeL2(dim_unlim,dim_010), float32 CT_amplitudeL2_smt(dim_unlim,dim_010), float32 IC_ion_bangle(dim_unlim,dim_lev1b), float32 IC_cov_bangle_ion(dim_unlim,dim_lev1b), float32 IC_cov_bangle_neut(dim_unlim,dim_lev1b), float32 LC_weight(dim_unlim,dim_lev1b), float32 LC_model_bangle(dim_unlim,dim_lev1b)\n",
      "    groups: \n"
     ]
    },
    {
     "ename": "AttributeError",
     "evalue": "NetCDF: Attribute not found",
     "output_type": "error",
     "traceback": [
      "\u001b[0;31m---------------------------------------------------------------------------\u001b[0m",
      "\u001b[0;31mAttributeError\u001b[0m                            Traceback (most recent call last)",
      "\u001b[0;32m/tmp/ipykernel_2414180/3189875698.py\u001b[0m in \u001b[0;36m<module>\u001b[0;34m\u001b[0m\n\u001b[1;32m     35\u001b[0m     \u001b[0;32mfor\u001b[0m \u001b[0mROfile\u001b[0m \u001b[0;32min\u001b[0m \u001b[0mdayofROfiles\u001b[0m\u001b[0;34m:\u001b[0m\u001b[0;34m\u001b[0m\u001b[0;34m\u001b[0m\u001b[0m\n\u001b[1;32m     36\u001b[0m         \u001b[0;32mif\u001b[0m \u001b[0mROfile\u001b[0m\u001b[0;34m[\u001b[0m\u001b[0;34m-\u001b[0m\u001b[0;36m11\u001b[0m\u001b[0;34m:\u001b[0m\u001b[0;34m]\u001b[0m \u001b[0;34m!=\u001b[0m \u001b[0;34m'non-nominal'\u001b[0m\u001b[0;34m:\u001b[0m\u001b[0;34m\u001b[0m\u001b[0;34m\u001b[0m\u001b[0m\n\u001b[0;32m---> 37\u001b[0;31m             \u001b[0mRO_Extraction\u001b[0m\u001b[0;34m(\u001b[0m\u001b[0mROfile\u001b[0m\u001b[0;34m)\u001b[0m\u001b[0;34m\u001b[0m\u001b[0;34m\u001b[0m\u001b[0m\n\u001b[0m\u001b[1;32m     38\u001b[0m         \u001b[0;32mbreak\u001b[0m\u001b[0;34m\u001b[0m\u001b[0;34m\u001b[0m\u001b[0m\n\u001b[1;32m     39\u001b[0m \u001b[0;34m\u001b[0m\u001b[0m\n",
      "\u001b[0;32m/tmp/ipykernel_2414180/3189875698.py\u001b[0m in \u001b[0;36mRO_Extraction\u001b[0;34m(path_item)\u001b[0m\n\u001b[1;32m     11\u001b[0m     \u001b[0mds\u001b[0m \u001b[0;34m=\u001b[0m \u001b[0mDataset\u001b[0m\u001b[0;34m(\u001b[0m\u001b[0mpath_item\u001b[0m\u001b[0;34m)\u001b[0m\u001b[0;34m\u001b[0m\u001b[0;34m\u001b[0m\u001b[0m\n\u001b[1;32m     12\u001b[0m     \u001b[0mprint\u001b[0m\u001b[0;34m(\u001b[0m\u001b[0mds\u001b[0m\u001b[0;34m)\u001b[0m\u001b[0;34m\u001b[0m\u001b[0;34m\u001b[0m\u001b[0m\n\u001b[0;32m---> 13\u001b[0;31m     \u001b[0;32mif\u001b[0m \u001b[0mds\u001b[0m\u001b[0;34m.\u001b[0m\u001b[0mbad\u001b[0m \u001b[0;34m==\u001b[0m \u001b[0;34m'0'\u001b[0m\u001b[0;34m:\u001b[0m\u001b[0;34m\u001b[0m\u001b[0;34m\u001b[0m\u001b[0m\n\u001b[0m\u001b[1;32m     14\u001b[0m         \u001b[0malts\u001b[0m \u001b[0;34m=\u001b[0m \u001b[0mds\u001b[0m\u001b[0;34m.\u001b[0m\u001b[0mvariables\u001b[0m\u001b[0;34m[\u001b[0m\u001b[0;34m'MSL_alt'\u001b[0m\u001b[0;34m]\u001b[0m\u001b[0;34m[\u001b[0m\u001b[0;34m:\u001b[0m\u001b[0;34m]\u001b[0m\u001b[0;34m\u001b[0m\u001b[0;34m\u001b[0m\u001b[0m\n\u001b[1;32m     15\u001b[0m         \u001b[0mlat\u001b[0m \u001b[0;34m=\u001b[0m \u001b[0mnp\u001b[0m\u001b[0;34m.\u001b[0m\u001b[0marray\u001b[0m\u001b[0;34m(\u001b[0m\u001b[0mds\u001b[0m\u001b[0;34m.\u001b[0m\u001b[0mvariables\u001b[0m\u001b[0;34m[\u001b[0m\u001b[0;34m'Lat'\u001b[0m\u001b[0;34m]\u001b[0m\u001b[0;34m[\u001b[0m\u001b[0;36m174\u001b[0m\u001b[0;34m]\u001b[0m\u001b[0;34m)\u001b[0m \u001b[0;31m#lat and lon are choosen as index 200 because-\u001b[0m\u001b[0;34m\u001b[0m\u001b[0;34m\u001b[0m\u001b[0m\n",
      "\u001b[0;32mnetCDF4/_netCDF4.pyx\u001b[0m in \u001b[0;36mnetCDF4._netCDF4.Dataset.__getattr__\u001b[0;34m()\u001b[0m\n",
      "\u001b[0;32mnetCDF4/_netCDF4.pyx\u001b[0m in \u001b[0;36mnetCDF4._netCDF4.Dataset.getncattr\u001b[0;34m()\u001b[0m\n",
      "\u001b[0;32mnetCDF4/_netCDF4.pyx\u001b[0m in \u001b[0;36mnetCDF4._netCDF4._get_att\u001b[0;34m()\u001b[0m\n",
      "\u001b[0;32mnetCDF4/_netCDF4.pyx\u001b[0m in \u001b[0;36mnetCDF4._netCDF4._ensure_nc_success\u001b[0;34m()\u001b[0m\n",
      "\u001b[0;31mAttributeError\u001b[0m: NetCDF: Attribute not found"
     ]
    }
   ],
   "source": [
    "#!/home/disk/p/aodhan/anaconda3/bin/python                                        \n",
    "#Imports\n",
    "import numpy as np\n",
    "import pandas as pd\n",
    "import glob\n",
    "import os\n",
    "from netCDF4 import Dataset\n",
    "from scipy.interpolate import interp1d\n",
    "\n",
    "def RO_Extraction(path_item):\n",
    "    ds = Dataset(path_item)\n",
    "    print(ds)\n",
    "    if ds.bad == '0':\n",
    "        alts = ds.variables['MSL_alt'][:]\n",
    "        lat = np.array(ds.variables['Lat'][174]) #lat and lon are choosen as index 200 because-\n",
    "        lon = np.array(ds.variables['Lon'][174]) #MSU T4 weighting function peaks at 20km\n",
    "        temp = ds.variables['Temp'][:]\n",
    "        pressure = ds.variables['Pres'][:]\n",
    "        \n",
    "        temp = temp.filled(np.NaN)\n",
    "        temperatures = np.array(temp)\n",
    "        \n",
    "        pres = pressure.filled(np.NaN)\n",
    "        pressures = np.array(pres)\n",
    "        occultation = [lat, lon, temperatures, pressures]\n",
    "        ds.close()\n",
    "        return occultation\n",
    "\n",
    "# Get all raw RO data folders (daily) in each satellites yealy subdirectory\n",
    "BasePathToROs = '/home/bdc2/aodhan/ROM_SAF/www.romsaf.org/pub/cdr/v1.0/profs/champ/atm/2001/'\n",
    "dailyROfolders = np.sort([f.path for f in os.scandir(BasePathToROs) if f.is_dir()]) # only find subdirectories\n",
    "\n",
    "for dailyROfolder_item in dailyROfolders:\n",
    "    dayofROfiles = np.sort(glob.glob(dailyROfolder_item + '/*'))\n",
    "    for ROfile in dayofROfiles:\n",
    "        if ROfile[-11:] != 'non-nominal':\n",
    "            RO_Extraction(ROfile)\n",
    "        break\n",
    "        \n",
    "    break\n",
    "    \n",
    "    \n"
   ]
  },
  {
   "cell_type": "code",
   "execution_count": null,
   "id": "16cf8173-d1b7-46fa-b644-a0dc45baeb4d",
   "metadata": {},
   "outputs": [],
   "source": []
  }
 ],
 "metadata": {
  "kernelspec": {
   "display_name": "Python 3 (ipykernel)",
   "language": "python",
   "name": "python3"
  },
  "language_info": {
   "codemirror_mode": {
    "name": "ipython",
    "version": 3
   },
   "file_extension": ".py",
   "mimetype": "text/x-python",
   "name": "python",
   "nbconvert_exporter": "python",
   "pygments_lexer": "ipython3",
   "version": "3.7.13"
  }
 },
 "nbformat": 4,
 "nbformat_minor": 5
}
