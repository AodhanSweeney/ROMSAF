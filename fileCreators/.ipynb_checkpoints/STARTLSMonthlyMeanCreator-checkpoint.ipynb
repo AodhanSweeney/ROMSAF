{
 "cells": [
  {
   "cell_type": "code",
   "execution_count": 1,
   "metadata": {},
   "outputs": [
    {
     "name": "stderr",
     "output_type": "stream",
     "text": [
      "/home/disk/p/aodhan/anaconda3/lib/python3.7/site-packages/ipykernel_launcher.py:15: RuntimeWarning: Mean of empty slice\n",
      "  from ipykernel import kernelapp as app\n",
      "/home/disk/p/aodhan/anaconda3/lib/python3.7/site-packages/ipykernel_launcher.py:27: RuntimeWarning: Mean of empty slice\n"
     ]
    }
   ],
   "source": [
    "import numpy as np\n",
    "import pandas as pd\n",
    "import xarray as xr\n",
    "import matplotlib.pyplot as plt\n",
    "\n",
    "lats = np.arange(-90, 90, 2.5)\n",
    "weights = np.cos(np.deg2rad(lats+1.25))\n",
    "\n",
    "TLS_TCDR = xr.open_dataset('/usb/BM_amsu_atms/TLS/NESDIS-STAR_TCDR_RTLS_S200209_E202110_C20211116.nc')\n",
    "nan_month = np.empty(np.shape(TLS_TCDR.tcdr_MSU_AMSUA_anomaly_channel_09.values[0]))\n",
    "nan_month[:] = np.NaN\n",
    "eight_nan_months = np.broadcast_to(nan_month, (8,72,144))\n",
    "two_nan_months = np.broadcast_to(nan_month, (2,72,144))\n",
    "TLS_anoms = TLS_TCDR.tcdr_MSU_AMSUA_anomaly_channel_09.values\n",
    "TLS_anoms_nov_2003 = np.nanmean([TLS_anoms[13], TLS_anoms[14]], axis=0)\n",
    "TLS_anoms = np.insert(TLS_anoms, 14, TLS_anoms_nov_2003, axis=0)\n",
    "TLS_anoms_wnans = np.concatenate([eight_nan_months, TLS_anoms], axis=0)\n",
    "TLS_anoms_wnans = np.concatenate([TLS_anoms_wnans, two_nan_months], axis=0)\n",
    "TLS_anoms_calendar = np.reshape(TLS_anoms_wnans, (20,12,72,144))\n",
    "TLS_measurements = TLS_anoms_calendar #+ TLS_TCDR.climatology.values\n",
    "np.save('STARTLSMonthlyMeanMaps_2002_2022', TLS_measurements)\n",
    "\n",
    "\n",
    "\n",
    "TLS_weighted_measurements = np.multiply(weights[np.newaxis,np.newaxis,:,np.newaxis], TLS_measurements)\n",
    "TLS_weighted_ts= np.reshape(TLS_weighted_measurements, (20,12,72*144))\n",
    "TLS_weighted_avg = np.nanmean(TLS_weighted_ts, axis=2)\n",
    "np.save('STARTLS_monthly_mean_anomalies_2002_2021', TLS_weighted_avg)"
   ]
  },
  {
   "cell_type": "code",
   "execution_count": 2,
   "metadata": {},
   "outputs": [
    {
     "data": {
      "text/html": [
       "<pre>&lt;xarray.Dataset&gt;\n",
       "Dimensions:                            (bounds: 2, latitude: 72, longitude: 144, month: 12, time: 229)\n",
       "Coordinates:\n",
       "  * time                               (time) datetime64[ns] 2002-09-15 ... 2021-10-15\n",
       "  * latitude                           (latitude) float32 -88.75 ... 88.75\n",
       "  * longitude                          (longitude) float32 -178.75 ... 178.75\n",
       "Dimensions without coordinates: bounds, month\n",
       "Data variables:\n",
       "    time_bounds                        (time, bounds) datetime64[ns] ...\n",
       "    float_time                         (time) float64 ...\n",
       "    fyear                              (time) float64 ...\n",
       "    fmonth                             (time) float64 ...\n",
       "    latitude_bounds                    (latitude, bounds) float32 ...\n",
       "    longitude_bounds                   (longitude, bounds) float32 ...\n",
       "    tcdr_MSU_AMSUA_anomaly_channel_09  (time, latitude, longitude) float32 nan ... nan\n",
       "    climatology                        (month, latitude, longitude) float32 ...\n",
       "Attributes:\n",
       "    id:                   NESDIS-STAR_TCDR_AMSU_ATMS_Merged_ANOMALY_4_V05R00_...\n",
       "    title:                NOAA Climate Data Record (CDR) of Advanced Microwav...\n",
       "    source:               NOAA Fundamental Climate Data Record (FCDR) of MSU ...\n",
       "    date_created:         2021-11-16 11-14-45\n",
       "    sensor:               Advanced Microwave Sounding Unit-A\n",
       "    spatial_resolution:   2.5 latitude by 2.5 longitude\n",
       "    time_coverage_start:  2002-09-01 00-00-00\n",
       "    time_coverage_end:    2021-10-31 23-59-59\n",
       "    geospatial_lat_min:   -90.0\n",
       "    geospatial_lat_max:   90.0\n",
       "    geospatial_lon_min:   -180.0\n",
       "    geospatial_lon_max:   180.0</pre>"
      ],
      "text/plain": [
       "<xarray.Dataset>\n",
       "Dimensions:                            (bounds: 2, latitude: 72, longitude: 144, month: 12, time: 229)\n",
       "Coordinates:\n",
       "  * time                               (time) datetime64[ns] 2002-09-15 ... 2021-10-15\n",
       "  * latitude                           (latitude) float32 -88.75 ... 88.75\n",
       "  * longitude                          (longitude) float32 -178.75 ... 178.75\n",
       "Dimensions without coordinates: bounds, month\n",
       "Data variables:\n",
       "    time_bounds                        (time, bounds) datetime64[ns] ...\n",
       "    float_time                         (time) float64 ...\n",
       "    fyear                              (time) float64 ...\n",
       "    fmonth                             (time) float64 ...\n",
       "    latitude_bounds                    (latitude, bounds) float32 ...\n",
       "    longitude_bounds                   (longitude, bounds) float32 ...\n",
       "    tcdr_MSU_AMSUA_anomaly_channel_09  (time, latitude, longitude) float32 nan ... nan\n",
       "    climatology                        (month, latitude, longitude) float32 ...\n",
       "Attributes:\n",
       "    id:                   NESDIS-STAR_TCDR_AMSU_ATMS_Merged_ANOMALY_4_V05R00_...\n",
       "    title:                NOAA Climate Data Record (CDR) of Advanced Microwav...\n",
       "    source:               NOAA Fundamental Climate Data Record (FCDR) of MSU ...\n",
       "    date_created:         2021-11-16 11-14-45\n",
       "    sensor:               Advanced Microwave Sounding Unit-A\n",
       "    spatial_resolution:   2.5 latitude by 2.5 longitude\n",
       "    time_coverage_start:  2002-09-01 00-00-00\n",
       "    time_coverage_end:    2021-10-31 23-59-59\n",
       "    geospatial_lat_min:   -90.0\n",
       "    geospatial_lat_max:   90.0\n",
       "    geospatial_lon_min:   -180.0\n",
       "    geospatial_lon_max:   180.0"
      ]
     },
     "execution_count": 2,
     "metadata": {},
     "output_type": "execute_result"
    }
   ],
   "source": [
    "TLS_TCDR"
   ]
  },
  {
   "cell_type": "code",
   "execution_count": 127,
   "metadata": {},
   "outputs": [
    {
     "data": {
      "text/plain": [
       "[<matplotlib.lines.Line2D at 0x7fbcef845f10>]"
      ]
     },
     "execution_count": 127,
     "metadata": {},
     "output_type": "execute_result"
    },
    {
     "data": {
      "image/png": "[encoded data removed]",
      "text/plain": [
       "<Figure size 432x288 with 1 Axes>"
      ]
     },
     "metadata": {
      "needs_background": "light"
     },
     "output_type": "display_data"
    }
   ],
   "source": [
    "plt.plot(np.reshape(TLS_weighted_avg, (20*12)))\n"
   ]
  },
  {
   "cell_type": "code",
   "execution_count": 137,
   "metadata": {},
   "outputs": [
    {
     "data": {
      "text/html": [
       "<pre>&lt;xarray.Dataset&gt;\n",
       "Dimensions:                            (bounds: 2, latitude: 72, longitude: 144, month: 12, time: 229)\n",
       "Coordinates:\n",
       "  * time                               (time) datetime64[ns] 2002-09-15 ... 2021-10-15\n",
       "  * latitude                           (latitude) float32 -88.75 ... 88.75\n",
       "  * longitude                          (longitude) float32 -178.75 ... 178.75\n",
       "Dimensions without coordinates: bounds, month\n",
       "Data variables:\n",
       "    time_bounds                        (time, bounds) datetime64[ns] ...\n",
       "    float_time                         (time) float64 ...\n",
       "    fyear                              (time) float64 ...\n",
       "    fmonth                             (time) float64 ...\n",
       "    latitude_bounds                    (latitude, bounds) float32 ...\n",
       "    longitude_bounds                   (longitude, bounds) float32 ...\n",
       "    tcdr_MSU_AMSUA_anomaly_channel_09  (time, latitude, longitude) float32 nan ... nan\n",
       "    climatology                        (month, latitude, longitude) float32 ...\n",
       "Attributes:\n",
       "    id:                   NESDIS-STAR_TCDR_AMSU_ATMS_Merged_ANOMALY_4_V05R00_...\n",
       "    title:                NOAA Climate Data Record (CDR) of Advanced Microwav...\n",
       "    source:               NOAA Fundamental Climate Data Record (FCDR) of MSU ...\n",
       "    date_created:         2021-11-16 11-14-45\n",
       "    sensor:               Advanced Microwave Sounding Unit-A\n",
       "    spatial_resolution:   2.5 latitude by 2.5 longitude\n",
       "    time_coverage_start:  2002-09-01 00-00-00\n",
       "    time_coverage_end:    2021-10-31 23-59-59\n",
       "    geospatial_lat_min:   -90.0\n",
       "    geospatial_lat_max:   90.0\n",
       "    geospatial_lon_min:   -180.0\n",
       "    geospatial_lon_max:   180.0</pre>"
      ],
      "text/plain": [
       "<xarray.Dataset>\n",
       "Dimensions:                            (bounds: 2, latitude: 72, longitude: 144, month: 12, time: 229)\n",
       "Coordinates:\n",
       "  * time                               (time) datetime64[ns] 2002-09-15 ... 2021-10-15\n",
       "  * latitude                           (latitude) float32 -88.75 ... 88.75\n",
       "  * longitude                          (longitude) float32 -178.75 ... 178.75\n",
       "Dimensions without coordinates: bounds, month\n",
       "Data variables:\n",
       "    time_bounds                        (time, bounds) datetime64[ns] ...\n",
       "    float_time                         (time) float64 ...\n",
       "    fyear                              (time) float64 ...\n",
       "    fmonth                             (time) float64 ...\n",
       "    latitude_bounds                    (latitude, bounds) float32 ...\n",
       "    longitude_bounds                   (longitude, bounds) float32 ...\n",
       "    tcdr_MSU_AMSUA_anomaly_channel_09  (time, latitude, longitude) float32 nan ... nan\n",
       "    climatology                        (month, latitude, longitude) float32 ...\n",
       "Attributes:\n",
       "    id:                   NESDIS-STAR_TCDR_AMSU_ATMS_Merged_ANOMALY_4_V05R00_...\n",
       "    title:                NOAA Climate Data Record (CDR) of Advanced Microwav...\n",
       "    source:               NOAA Fundamental Climate Data Record (FCDR) of MSU ...\n",
       "    date_created:         2021-11-16 11-14-45\n",
       "    sensor:               Advanced Microwave Sounding Unit-A\n",
       "    spatial_resolution:   2.5 latitude by 2.5 longitude\n",
       "    time_coverage_start:  2002-09-01 00-00-00\n",
       "    time_coverage_end:    2021-10-31 23-59-59\n",
       "    geospatial_lat_min:   -90.0\n",
       "    geospatial_lat_max:   90.0\n",
       "    geospatial_lon_min:   -180.0\n",
       "    geospatial_lon_max:   180.0"
      ]
     },
     "execution_count": 137,
     "metadata": {},
     "output_type": "execute_result"
    }
   ],
   "source": [
    "TLS_TCDR"
   ]
  },
  {
   "cell_type": "code",
   "execution_count": null,
   "metadata": {},
   "outputs": [],
   "source": []
  }
 ],
 "metadata": {
  "kernelspec": {
   "display_name": "Python 3",
   "language": "python",
   "name": "python3"
  },
  "language_info": {
   "codemirror_mode": {
    "name": "ipython",
    "version": 3
   },
   "file_extension": ".py",
   "mimetype": "text/x-python",
   "name": "python",
   "nbconvert_exporter": "python",
   "pygments_lexer": "ipython3",
   "version": "3.7.4"
  }
 },
 "nbformat": 4,
 "nbformat_minor": 4
}
