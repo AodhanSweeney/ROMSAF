{
 "cells": [
  {
   "cell_type": "code",
   "execution_count": 1,
   "metadata": {},
   "outputs": [
    {
     "name": "stdout",
     "output_type": "stream",
     "text": [
      "2001\n"
     ]
    },
    {
     "name": "stderr",
     "output_type": "stream",
     "text": [
      "ERROR:root:Internal Python error in the inspect module.\n",
      "Below is the traceback from this internal error.\n",
      "\n",
      "\n",
      "KeyboardInterrupt\n",
      "\n"
     ]
    }
   ],
   "source": [
    "import numpy as np\n",
    "import pandas as pd\n",
    "import matplotlib.pyplot as plt\n",
    "import glob\n",
    "\n",
    "def to_bin_lat(y):\n",
    "    lat_step = 2.5\n",
    "    binned_lat = np.floor(y / lat_step) * lat_step\n",
    "    return(binned_lat)\n",
    "\n",
    "def to_bin_lon(x):\n",
    "    lon_step = 2.5\n",
    "    binned_lon = np.floor(x / lon_step) * lon_step\n",
    "    return(binned_lon)\n",
    "\n",
    "def find_global_average_TLS(calendar_TLS_maps):\n",
    "    weights = np.swapaxes(np.broadcast_to(np.cos(np.deg2rad(lats+2.5)), (36,36)), 0,1)\n",
    "    TLS_calendar = []\n",
    "    for year_of_data in calendar_TLS_maps:\n",
    "        TLS_by_year = []\n",
    "        for month_of_data in year_of_data:\n",
    "            weighted_TLS_map = np.multiply(weights, month_of_data)\n",
    "            average_TLS = np.nanmean(weighted_TLS_map)\n",
    "            TLS_by_year.append(average_TLS)\n",
    "        TLS_calendar.append(TLS_by_year)\n",
    "    return(np.array(TLS_calendar))\n",
    "\n",
    "def TLS_maps_creator(base_path, start_year, end_year):\n",
    "    cdr_TLS_maps = []\n",
    "    for year in range(start_year, end_year):\n",
    "        print(year)\n",
    "        year_of_TLS_path = base_path + str(year) + '/*TLS*'\n",
    "        TLS_yearly_files = glob.glob(year_of_TLS_path)\n",
    "        one_year_TLS_files = []\n",
    "        for sat_file in TLS_yearly_files:\n",
    "            one_sat_one_year_TLS = np.load(sat_file, allow_pickle=True)\n",
    "            one_year_TLS_files.append(one_sat_one_year_TLS)\n",
    "        one_year_TLS_files = np.concatenate(one_year_TLS_files, axis=0)\n",
    "        one_year_df = pd.DataFrame(one_year_TLS_files, columns=['Month', 'Lat', 'Lon', 'Date', 'TLS'])\n",
    "        one_year_df['latbin'] = one_year_df.Lat.apply(to_bin_lat)\n",
    "        one_year_df['lonbin'] = one_year_df.Lon.apply(to_bin_lon)\n",
    "        year_of_TLS_maps = []\n",
    "        for month in range(1, 13):\n",
    "            one_month_df = one_year_df[one_year_df['Month']==month]\n",
    "            mean_TLS_map = []\n",
    "            for lat_idx in lats:\n",
    "                one_month_df_at_lat = one_month_df[one_month_df['latbin'] == lat_idx]\n",
    "                mean_TLS_at_lat = []\n",
    "                for lon_idx in lons:\n",
    "                    one_month_df_box = one_month_df_at_lat[one_month_df_at_lat['lonbin'] == lon_idx]\n",
    "                    if one_month_df_box.size > 0:\n",
    "                        mean_TLS = one_month_df_box.TLS.mean()\n",
    "                    elif one_month_df_box.size == 0:\n",
    "                        mean_TLS = np.NaN\n",
    "                    else:\n",
    "                        print('Size of df is invalid.')\n",
    "                    mean_TLS_at_lat.append(mean_TLS)\n",
    "                mean_TLS_map.append(mean_TLS_at_lat)\n",
    "            year_of_TLS_maps.append(mean_TLS_map)\n",
    "        cdr_TLS_maps.append(year_of_TLS_maps)\n",
    "    return(np.array(cdr_TLS_maps))\n",
    "\n",
    "\n",
    "cdr_base_path = '/home/bdc2/aodhan/ROM_SAF/www.romsaf.org/pub/cdr/v1.0/profs/*/atm/'\n",
    "icdr_base_path = '/home/bdc2/aodhan/ROM_SAF/www.romsaf.org/pub/icdr/v1-series/profs/*/atm/'\n",
    "\n",
    "lats = np.arange(-90, 90, 2.5)\n",
    "lons = np.arange(-180, 180, 2.5)\n",
    "\n",
    "cdr_TLS_maps = TLS_maps_creator(cdr_base_path, 2001, 2017)\n",
    "icdr_TLS_maps = TLS_maps_creator(icdr_base_path, 2017, 2022)"
   ]
  },
  {
   "cell_type": "code",
   "execution_count": 9,
   "metadata": {},
   "outputs": [
    {
     "name": "stderr",
     "output_type": "stream",
     "text": [
      "/home/disk/p/aodhan/anaconda3/lib/python3.7/site-packages/ipykernel_launcher.py:2: RuntimeWarning: Mean of empty slice\n",
      "  \n"
     ]
    }
   ],
   "source": [
    "calendar_TLS_maps = np.concatenate([cdr_TLS_maps, icdr_TLS_maps], axis=0)\n",
    "climatology = np.nanmean(calendar_TLS_maps[7:17], axis=0)\n",
    "TLS_anoms_maps = calendar_TLS_maps #- climatology\n",
    "np.save('ROTLSMonthlyMeanMaps_2001_2022', TLS_anoms_maps)"
   ]
  },
  {
   "cell_type": "code",
   "execution_count": 52,
   "metadata": {},
   "outputs": [
    {
     "name": "stderr",
     "output_type": "stream",
     "text": [
      "/home/disk/p/aodhan/anaconda3/lib/python3.7/site-packages/ipykernel_launcher.py:8: RuntimeWarning: Mean of empty slice\n",
      "  \n"
     ]
    },
    {
     "data": {
      "image/png": "[encoded data removed]",
      "text/plain": [
       "<Figure size 432x288 with 1 Axes>"
      ]
     },
     "metadata": {
      "needs_background": "light"
     },
     "output_type": "display_data"
    }
   ],
   "source": [
    "TLS_anoms_calendar = find_global_average_TLS(TLS_anoms_maps)\n",
    "plt.plot(np.reshape(TLS_anoms_calendar, (21*12)))\n",
    "\n",
    "np.save('ROTLSmonthly_mean_anomalies_2001_2022', TLS_anoms_calendar)"
   ]
  },
  {
   "cell_type": "code",
   "execution_count": null,
   "metadata": {},
   "outputs": [],
   "source": []
  }
 ],
 "metadata": {
  "kernelspec": {
   "display_name": "Python 3 (ipykernel)",
   "language": "python",
   "name": "python3"
  },
  "language_info": {
   "codemirror_mode": {
    "name": "ipython",
    "version": 3
   },
   "file_extension": ".py",
   "mimetype": "text/x-python",
   "name": "python",
   "nbconvert_exporter": "python",
   "pygments_lexer": "ipython3",
   "version": "3.7.13"
  },
  "vscode": {
   "interpreter": {
    "hash": "af835c7fa3f1d66f76e7463e82810696e6cb13c598b94db10ac6143493e4a761"
   }
  }
 },
 "nbformat": 4,
 "nbformat_minor": 4
}
