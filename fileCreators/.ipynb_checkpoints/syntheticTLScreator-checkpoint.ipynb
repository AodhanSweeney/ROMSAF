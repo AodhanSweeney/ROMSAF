{
 "cells": [
  {
   "cell_type": "code",
   "execution_count": 1,
   "metadata": {},
   "outputs": [],
   "source": [
    "import numpy as np\n",
    "import pandas as pd\n",
    "import matplotlib.pyplot as plt\n",
    "import glob\n",
    "import xarray as xr\n",
    "from scipy.interpolate import interp1d\n",
    "\n",
    "amsu_channel9_df = pd.read_csv('AMSU_channel9_2022.csv')\n",
    "total = amsu_channel9_df.Weight.sum()\n",
    "amsu_channel9_df = amsu_channel9_df[amsu_channel9_df['Height'] > 7]\n",
    "amsu_channel9_df = amsu_channel9_df[amsu_channel9_df['Height'] < 41]\n",
    "#plt.plot(amsu_channel9_df.Weight, amsu_channel9_df.Height)\n",
    "weighting_function_heights = amsu_channel9_df.Height\n",
    "wf_interp = interp1d(amsu_channel9_df.Height, amsu_channel9_df.Weight, kind='cubic')\n",
    "wf_heights_100m_spacing = np.linspace(8,40,161)\n",
    "wf_weights_100m_spacing = wf_interp(wf_heights_100m_spacing)\n",
    "wf_heights_100m_spacing = wf_heights_100m_spacing*1000\n"
   ]
  },
  {
   "cell_type": "code",
   "execution_count": null,
   "metadata": {},
   "outputs": [],
   "source": [
    "ROM_SAF_path = '/home/bdc2/aodhan/ROM_SAF/www.romsaf.org/pub/cdr/v1.0/profs/grace/atm/'\n",
    "\n",
    "for year in range(2007, 2017):\n",
    "    RO_daily_data_paths = glob.glob(ROM_SAF_path + str(year) + '/*')\n",
    "    yearly_TLS_data = []\n",
    "    for day in RO_daily_data_paths:\n",
    "        datafiles_of_day = glob.glob(day + '/*')\n",
    "        for datafile in datafiles_of_day:\n",
    "            if datafile[-11:] == 'non-nominal':\n",
    "                continue\n",
    "            else:\n",
    "                RO = xr.open_dataset(datafile)\n",
    "                dry_temp = RO.dry_temp.values[0] - 273.15\n",
    "                alt = RO.alt_refrac.values[0] \n",
    "                # above is the height according to page 51/51 at url below\n",
    "                # https://www.romsaf.org/product_documents/romsaf_pum.pdf \n",
    "                if alt[0] <= 8000: # Make sure ROs have data to find TLS\n",
    "                    altm17 = np.abs(alt-17000)\n",
    "                    idx_17km = np.nanargmin(altm17) # 17 Km tangent point\n",
    "                    lat = RO.lat_tp.values[0][idx_17km]\n",
    "                    lon = RO.lon_tp.values[0][idx_17km]\n",
    "                    time = RO.time.values[0]\n",
    "                    month = RO.month.values[0]\n",
    "\n",
    "                    # interpolate temperature profile\n",
    "                    temp_interp = interp1d(alt, dry_temp, kind='cubic')\n",
    "                    temp_100m_spacing = temp_interp(wf_heights_100m_spacing)\n",
    "                    weighted_temp = np.multiply(temp_100m_spacing, wf_weights_100m_spacing)\n",
    "                    summed_weighted_temp = np.nansum(weighted_temp)\n",
    "                    summed_weight = np.nansum(wf_weights_100m_spacing)\n",
    "\n",
    "                    # find TLS value\n",
    "                    TLS = summed_weighted_temp/summed_weight\n",
    "\n",
    "                    data_row = [month, lat, lon, time, TLS]\n",
    "                    yearly_TLS_data.append(data_row)\n",
    "                else:\n",
    "                    continue            \n",
    "    np.save(ROM_SAF_path + str(year) + '/grace_TLS_measurements.npy', yearly_TLS_data)\n",
    "    "
   ]
  },
  {
   "cell_type": "code",
   "execution_count": null,
   "metadata": {},
   "outputs": [],
   "source": []
  }
 ],
 "metadata": {
  "kernelspec": {
   "display_name": "Python 3",
   "language": "python",
   "name": "python3"
  },
  "language_info": {
   "codemirror_mode": {
    "name": "ipython",
    "version": 3
   },
   "file_extension": ".py",
   "mimetype": "text/x-python",
   "name": "python",
   "nbconvert_exporter": "python",
   "pygments_lexer": "ipython3",
   "version": "3.7.4"
  }
 },
 "nbformat": 4,
 "nbformat_minor": 2
}
